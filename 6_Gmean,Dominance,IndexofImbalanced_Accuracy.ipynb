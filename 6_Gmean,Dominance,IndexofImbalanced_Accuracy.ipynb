{
  "nbformat": 4,
  "nbformat_minor": 0,
  "metadata": {
    "colab": {
      "provenance": [],
      "authorship_tag": "ABX9TyNk/ecR/Szbeye17RqbLPOC",
      "include_colab_link": true
    },
    "kernelspec": {
      "name": "python3",
      "display_name": "Python 3"
    },
    "language_info": {
      "name": "python"
    }
  },
  "cells": [
    {
      "cell_type": "markdown",
      "metadata": {
        "id": "view-in-github",
        "colab_type": "text"
      },
      "source": [
        "<a href=\"https://colab.research.google.com/github/farrelrassya/Machine-Learning-with-Imbalanced-Dataset-Udemy/blob/main/6_Gmean%2CDominance%2CIndexofImbalanced_Accuracy.ipynb\" target=\"_parent\"><img src=\"https://colab.research.google.com/assets/colab-badge.svg\" alt=\"Open In Colab\"/></a>"
      ]
    },
    {
      "cell_type": "code",
      "execution_count": 8,
      "metadata": {
        "id": "ZEWJJWzHDqqS"
      },
      "outputs": [],
      "source": [
        "import numpy as np\n",
        "import pandas as pd\n",
        "import matplotlib.pyplot as plt\n",
        "\n",
        "from sklearn.ensemble import RandomForestClassifier\n",
        "from sklearn.linear_model import LogisticRegression\n",
        "from sklearn.model_selection import train_test_split\n",
        "\n",
        "from sklearn.metrics import (\n",
        "    recall_score,\n",
        "    accuracy_score,\n",
        "    balanced_accuracy_score,\n",
        ")\n",
        "\n",
        "from imblearn.metrics import (\n",
        "    geometric_mean_score,\n",
        "    make_index_balanced_accuracy,\n",
        ")"
      ]
    },
    {
      "cell_type": "code",
      "source": [
        "# load data\n",
        "data = pd.read_csv('kdd2004.csv')\n",
        "\n",
        "# remap target class to 0 and 1\n",
        "data['target'] = data['target'].map({-1:0, 1:1})\n",
        "\n",
        "data"
      ],
      "metadata": {
        "colab": {
          "base_uri": "https://localhost:8080/",
          "height": 424
        },
        "id": "rsutDsnjDrwp",
        "outputId": "eff84da2-6c02-4208-afae-b8b0635d9937"
      },
      "execution_count": 9,
      "outputs": [
        {
          "output_type": "execute_result",
          "data": {
            "text/plain": [
              "             0      1      2      3       4       5     6      7      8  \\\n",
              "0        52.00  32.69   0.30    2.5    20.0  1256.8 -0.89   0.33   11.0   \n",
              "1        58.00  33.33   0.00   16.5     9.5   608.1  0.50   0.07   20.5   \n",
              "2        77.00  27.27  -0.91    6.0    58.5  1623.6 -1.40   0.02   -6.5   \n",
              "3        41.00  27.91  -0.35    3.0    46.0  1921.6 -1.36  -0.47  -32.0   \n",
              "4        50.00  28.00  -1.32   -9.0    12.0   464.8  0.88   0.19    8.0   \n",
              "...        ...    ...    ...    ...     ...     ...   ...    ...    ...   \n",
              "145746   98.61  20.66   2.07   37.0   -70.5  1015.7  0.67  -0.46    9.0   \n",
              "145747   73.15  24.85   0.61   32.5   -40.5   650.2  1.58  -0.05    2.5   \n",
              "145748  100.00  71.76  41.92  954.5 -1039.0  -562.3  5.19  59.89  917.0   \n",
              "145749   85.65  26.46   1.85   42.0    26.0  2738.3 -0.85   0.55    8.0   \n",
              "145750   87.50  29.33   5.84  130.0  -188.5  1297.3  0.44   7.84  114.0   \n",
              "\n",
              "             9  ...      65    66     67    68     69     70    71    72  \\\n",
              "0        -55.0  ...  1595.1 -1.64   2.83  -2.0  -50.0  445.2 -0.35  0.26   \n",
              "1        -52.5  ...   762.9  0.29   0.82  -3.0  -35.0  140.3  1.16  0.39   \n",
              "2        -48.0  ...  1491.8  0.32  -1.29   0.0  -34.0  658.2 -0.76  0.26   \n",
              "3        -51.5  ...  2047.7 -0.98   1.53   0.0  -49.0  554.2 -0.83  0.39   \n",
              "4        -51.5  ...   479.5  0.68  -0.59   2.0  -36.0   -6.9  2.02  0.14   \n",
              "...        ...  ...     ...   ...    ...   ...    ...    ...   ...   ...   \n",
              "145746   -76.5  ...   416.9  1.73   2.49   9.0  -87.0  464.7  0.63  0.45   \n",
              "145747   -89.5  ...  1354.3  0.05  -1.14  -4.0  -43.0  304.1 -0.02  0.10   \n",
              "145748 -1044.0  ...  -236.2  3.56  11.87  47.0 -175.0 -245.3  3.41  0.44   \n",
              "145749   -84.0  ...  1919.2 -0.34  -0.98 -16.0  -89.0   12.0  2.88  0.54   \n",
              "145750  -205.5  ...   716.2  1.82   4.49  18.0 -117.0  607.8 -0.58  0.16   \n",
              "\n",
              "          73  target  \n",
              "0       0.76       0  \n",
              "1       0.73       0  \n",
              "2       0.24       0  \n",
              "3       0.73       0  \n",
              "4      -0.23       0  \n",
              "...      ...     ...  \n",
              "145746  0.69       0  \n",
              "145747 -0.66       0  \n",
              "145748  0.78       1  \n",
              "145749  0.77       0  \n",
              "145750  0.23       1  \n",
              "\n",
              "[145751 rows x 75 columns]"
            ],
            "text/html": [
              "\n",
              "  <div id=\"df-b9fd646e-a5a0-4827-a748-cafc1f193494\" class=\"colab-df-container\">\n",
              "    <div>\n",
              "<style scoped>\n",
              "    .dataframe tbody tr th:only-of-type {\n",
              "        vertical-align: middle;\n",
              "    }\n",
              "\n",
              "    .dataframe tbody tr th {\n",
              "        vertical-align: top;\n",
              "    }\n",
              "\n",
              "    .dataframe thead th {\n",
              "        text-align: right;\n",
              "    }\n",
              "</style>\n",
              "<table border=\"1\" class=\"dataframe\">\n",
              "  <thead>\n",
              "    <tr style=\"text-align: right;\">\n",
              "      <th></th>\n",
              "      <th>0</th>\n",
              "      <th>1</th>\n",
              "      <th>2</th>\n",
              "      <th>3</th>\n",
              "      <th>4</th>\n",
              "      <th>5</th>\n",
              "      <th>6</th>\n",
              "      <th>7</th>\n",
              "      <th>8</th>\n",
              "      <th>9</th>\n",
              "      <th>...</th>\n",
              "      <th>65</th>\n",
              "      <th>66</th>\n",
              "      <th>67</th>\n",
              "      <th>68</th>\n",
              "      <th>69</th>\n",
              "      <th>70</th>\n",
              "      <th>71</th>\n",
              "      <th>72</th>\n",
              "      <th>73</th>\n",
              "      <th>target</th>\n",
              "    </tr>\n",
              "  </thead>\n",
              "  <tbody>\n",
              "    <tr>\n",
              "      <th>0</th>\n",
              "      <td>52.00</td>\n",
              "      <td>32.69</td>\n",
              "      <td>0.30</td>\n",
              "      <td>2.5</td>\n",
              "      <td>20.0</td>\n",
              "      <td>1256.8</td>\n",
              "      <td>-0.89</td>\n",
              "      <td>0.33</td>\n",
              "      <td>11.0</td>\n",
              "      <td>-55.0</td>\n",
              "      <td>...</td>\n",
              "      <td>1595.1</td>\n",
              "      <td>-1.64</td>\n",
              "      <td>2.83</td>\n",
              "      <td>-2.0</td>\n",
              "      <td>-50.0</td>\n",
              "      <td>445.2</td>\n",
              "      <td>-0.35</td>\n",
              "      <td>0.26</td>\n",
              "      <td>0.76</td>\n",
              "      <td>0</td>\n",
              "    </tr>\n",
              "    <tr>\n",
              "      <th>1</th>\n",
              "      <td>58.00</td>\n",
              "      <td>33.33</td>\n",
              "      <td>0.00</td>\n",
              "      <td>16.5</td>\n",
              "      <td>9.5</td>\n",
              "      <td>608.1</td>\n",
              "      <td>0.50</td>\n",
              "      <td>0.07</td>\n",
              "      <td>20.5</td>\n",
              "      <td>-52.5</td>\n",
              "      <td>...</td>\n",
              "      <td>762.9</td>\n",
              "      <td>0.29</td>\n",
              "      <td>0.82</td>\n",
              "      <td>-3.0</td>\n",
              "      <td>-35.0</td>\n",
              "      <td>140.3</td>\n",
              "      <td>1.16</td>\n",
              "      <td>0.39</td>\n",
              "      <td>0.73</td>\n",
              "      <td>0</td>\n",
              "    </tr>\n",
              "    <tr>\n",
              "      <th>2</th>\n",
              "      <td>77.00</td>\n",
              "      <td>27.27</td>\n",
              "      <td>-0.91</td>\n",
              "      <td>6.0</td>\n",
              "      <td>58.5</td>\n",
              "      <td>1623.6</td>\n",
              "      <td>-1.40</td>\n",
              "      <td>0.02</td>\n",
              "      <td>-6.5</td>\n",
              "      <td>-48.0</td>\n",
              "      <td>...</td>\n",
              "      <td>1491.8</td>\n",
              "      <td>0.32</td>\n",
              "      <td>-1.29</td>\n",
              "      <td>0.0</td>\n",
              "      <td>-34.0</td>\n",
              "      <td>658.2</td>\n",
              "      <td>-0.76</td>\n",
              "      <td>0.26</td>\n",
              "      <td>0.24</td>\n",
              "      <td>0</td>\n",
              "    </tr>\n",
              "    <tr>\n",
              "      <th>3</th>\n",
              "      <td>41.00</td>\n",
              "      <td>27.91</td>\n",
              "      <td>-0.35</td>\n",
              "      <td>3.0</td>\n",
              "      <td>46.0</td>\n",
              "      <td>1921.6</td>\n",
              "      <td>-1.36</td>\n",
              "      <td>-0.47</td>\n",
              "      <td>-32.0</td>\n",
              "      <td>-51.5</td>\n",
              "      <td>...</td>\n",
              "      <td>2047.7</td>\n",
              "      <td>-0.98</td>\n",
              "      <td>1.53</td>\n",
              "      <td>0.0</td>\n",
              "      <td>-49.0</td>\n",
              "      <td>554.2</td>\n",
              "      <td>-0.83</td>\n",
              "      <td>0.39</td>\n",
              "      <td>0.73</td>\n",
              "      <td>0</td>\n",
              "    </tr>\n",
              "    <tr>\n",
              "      <th>4</th>\n",
              "      <td>50.00</td>\n",
              "      <td>28.00</td>\n",
              "      <td>-1.32</td>\n",
              "      <td>-9.0</td>\n",
              "      <td>12.0</td>\n",
              "      <td>464.8</td>\n",
              "      <td>0.88</td>\n",
              "      <td>0.19</td>\n",
              "      <td>8.0</td>\n",
              "      <td>-51.5</td>\n",
              "      <td>...</td>\n",
              "      <td>479.5</td>\n",
              "      <td>0.68</td>\n",
              "      <td>-0.59</td>\n",
              "      <td>2.0</td>\n",
              "      <td>-36.0</td>\n",
              "      <td>-6.9</td>\n",
              "      <td>2.02</td>\n",
              "      <td>0.14</td>\n",
              "      <td>-0.23</td>\n",
              "      <td>0</td>\n",
              "    </tr>\n",
              "    <tr>\n",
              "      <th>...</th>\n",
              "      <td>...</td>\n",
              "      <td>...</td>\n",
              "      <td>...</td>\n",
              "      <td>...</td>\n",
              "      <td>...</td>\n",
              "      <td>...</td>\n",
              "      <td>...</td>\n",
              "      <td>...</td>\n",
              "      <td>...</td>\n",
              "      <td>...</td>\n",
              "      <td>...</td>\n",
              "      <td>...</td>\n",
              "      <td>...</td>\n",
              "      <td>...</td>\n",
              "      <td>...</td>\n",
              "      <td>...</td>\n",
              "      <td>...</td>\n",
              "      <td>...</td>\n",
              "      <td>...</td>\n",
              "      <td>...</td>\n",
              "      <td>...</td>\n",
              "    </tr>\n",
              "    <tr>\n",
              "      <th>145746</th>\n",
              "      <td>98.61</td>\n",
              "      <td>20.66</td>\n",
              "      <td>2.07</td>\n",
              "      <td>37.0</td>\n",
              "      <td>-70.5</td>\n",
              "      <td>1015.7</td>\n",
              "      <td>0.67</td>\n",
              "      <td>-0.46</td>\n",
              "      <td>9.0</td>\n",
              "      <td>-76.5</td>\n",
              "      <td>...</td>\n",
              "      <td>416.9</td>\n",
              "      <td>1.73</td>\n",
              "      <td>2.49</td>\n",
              "      <td>9.0</td>\n",
              "      <td>-87.0</td>\n",
              "      <td>464.7</td>\n",
              "      <td>0.63</td>\n",
              "      <td>0.45</td>\n",
              "      <td>0.69</td>\n",
              "      <td>0</td>\n",
              "    </tr>\n",
              "    <tr>\n",
              "      <th>145747</th>\n",
              "      <td>73.15</td>\n",
              "      <td>24.85</td>\n",
              "      <td>0.61</td>\n",
              "      <td>32.5</td>\n",
              "      <td>-40.5</td>\n",
              "      <td>650.2</td>\n",
              "      <td>1.58</td>\n",
              "      <td>-0.05</td>\n",
              "      <td>2.5</td>\n",
              "      <td>-89.5</td>\n",
              "      <td>...</td>\n",
              "      <td>1354.3</td>\n",
              "      <td>0.05</td>\n",
              "      <td>-1.14</td>\n",
              "      <td>-4.0</td>\n",
              "      <td>-43.0</td>\n",
              "      <td>304.1</td>\n",
              "      <td>-0.02</td>\n",
              "      <td>0.10</td>\n",
              "      <td>-0.66</td>\n",
              "      <td>0</td>\n",
              "    </tr>\n",
              "    <tr>\n",
              "      <th>145748</th>\n",
              "      <td>100.00</td>\n",
              "      <td>71.76</td>\n",
              "      <td>41.92</td>\n",
              "      <td>954.5</td>\n",
              "      <td>-1039.0</td>\n",
              "      <td>-562.3</td>\n",
              "      <td>5.19</td>\n",
              "      <td>59.89</td>\n",
              "      <td>917.0</td>\n",
              "      <td>-1044.0</td>\n",
              "      <td>...</td>\n",
              "      <td>-236.2</td>\n",
              "      <td>3.56</td>\n",
              "      <td>11.87</td>\n",
              "      <td>47.0</td>\n",
              "      <td>-175.0</td>\n",
              "      <td>-245.3</td>\n",
              "      <td>3.41</td>\n",
              "      <td>0.44</td>\n",
              "      <td>0.78</td>\n",
              "      <td>1</td>\n",
              "    </tr>\n",
              "    <tr>\n",
              "      <th>145749</th>\n",
              "      <td>85.65</td>\n",
              "      <td>26.46</td>\n",
              "      <td>1.85</td>\n",
              "      <td>42.0</td>\n",
              "      <td>26.0</td>\n",
              "      <td>2738.3</td>\n",
              "      <td>-0.85</td>\n",
              "      <td>0.55</td>\n",
              "      <td>8.0</td>\n",
              "      <td>-84.0</td>\n",
              "      <td>...</td>\n",
              "      <td>1919.2</td>\n",
              "      <td>-0.34</td>\n",
              "      <td>-0.98</td>\n",
              "      <td>-16.0</td>\n",
              "      <td>-89.0</td>\n",
              "      <td>12.0</td>\n",
              "      <td>2.88</td>\n",
              "      <td>0.54</td>\n",
              "      <td>0.77</td>\n",
              "      <td>0</td>\n",
              "    </tr>\n",
              "    <tr>\n",
              "      <th>145750</th>\n",
              "      <td>87.50</td>\n",
              "      <td>29.33</td>\n",
              "      <td>5.84</td>\n",
              "      <td>130.0</td>\n",
              "      <td>-188.5</td>\n",
              "      <td>1297.3</td>\n",
              "      <td>0.44</td>\n",
              "      <td>7.84</td>\n",
              "      <td>114.0</td>\n",
              "      <td>-205.5</td>\n",
              "      <td>...</td>\n",
              "      <td>716.2</td>\n",
              "      <td>1.82</td>\n",
              "      <td>4.49</td>\n",
              "      <td>18.0</td>\n",
              "      <td>-117.0</td>\n",
              "      <td>607.8</td>\n",
              "      <td>-0.58</td>\n",
              "      <td>0.16</td>\n",
              "      <td>0.23</td>\n",
              "      <td>1</td>\n",
              "    </tr>\n",
              "  </tbody>\n",
              "</table>\n",
              "<p>145751 rows × 75 columns</p>\n",
              "</div>\n",
              "    <div class=\"colab-df-buttons\">\n",
              "\n",
              "  <div class=\"colab-df-container\">\n",
              "    <button class=\"colab-df-convert\" onclick=\"convertToInteractive('df-b9fd646e-a5a0-4827-a748-cafc1f193494')\"\n",
              "            title=\"Convert this dataframe to an interactive table.\"\n",
              "            style=\"display:none;\">\n",
              "\n",
              "  <svg xmlns=\"http://www.w3.org/2000/svg\" height=\"24px\" viewBox=\"0 -960 960 960\">\n",
              "    <path d=\"M120-120v-720h720v720H120Zm60-500h600v-160H180v160Zm220 220h160v-160H400v160Zm0 220h160v-160H400v160ZM180-400h160v-160H180v160Zm440 0h160v-160H620v160ZM180-180h160v-160H180v160Zm440 0h160v-160H620v160Z\"/>\n",
              "  </svg>\n",
              "    </button>\n",
              "\n",
              "  <style>\n",
              "    .colab-df-container {\n",
              "      display:flex;\n",
              "      gap: 12px;\n",
              "    }\n",
              "\n",
              "    .colab-df-convert {\n",
              "      background-color: #E8F0FE;\n",
              "      border: none;\n",
              "      border-radius: 50%;\n",
              "      cursor: pointer;\n",
              "      display: none;\n",
              "      fill: #1967D2;\n",
              "      height: 32px;\n",
              "      padding: 0 0 0 0;\n",
              "      width: 32px;\n",
              "    }\n",
              "\n",
              "    .colab-df-convert:hover {\n",
              "      background-color: #E2EBFA;\n",
              "      box-shadow: 0px 1px 2px rgba(60, 64, 67, 0.3), 0px 1px 3px 1px rgba(60, 64, 67, 0.15);\n",
              "      fill: #174EA6;\n",
              "    }\n",
              "\n",
              "    .colab-df-buttons div {\n",
              "      margin-bottom: 4px;\n",
              "    }\n",
              "\n",
              "    [theme=dark] .colab-df-convert {\n",
              "      background-color: #3B4455;\n",
              "      fill: #D2E3FC;\n",
              "    }\n",
              "\n",
              "    [theme=dark] .colab-df-convert:hover {\n",
              "      background-color: #434B5C;\n",
              "      box-shadow: 0px 1px 3px 1px rgba(0, 0, 0, 0.15);\n",
              "      filter: drop-shadow(0px 1px 2px rgba(0, 0, 0, 0.3));\n",
              "      fill: #FFFFFF;\n",
              "    }\n",
              "  </style>\n",
              "\n",
              "    <script>\n",
              "      const buttonEl =\n",
              "        document.querySelector('#df-b9fd646e-a5a0-4827-a748-cafc1f193494 button.colab-df-convert');\n",
              "      buttonEl.style.display =\n",
              "        google.colab.kernel.accessAllowed ? 'block' : 'none';\n",
              "\n",
              "      async function convertToInteractive(key) {\n",
              "        const element = document.querySelector('#df-b9fd646e-a5a0-4827-a748-cafc1f193494');\n",
              "        const dataTable =\n",
              "          await google.colab.kernel.invokeFunction('convertToInteractive',\n",
              "                                                    [key], {});\n",
              "        if (!dataTable) return;\n",
              "\n",
              "        const docLinkHtml = 'Like what you see? Visit the ' +\n",
              "          '<a target=\"_blank\" href=https://colab.research.google.com/notebooks/data_table.ipynb>data table notebook</a>'\n",
              "          + ' to learn more about interactive tables.';\n",
              "        element.innerHTML = '';\n",
              "        dataTable['output_type'] = 'display_data';\n",
              "        await google.colab.output.renderOutput(dataTable, element);\n",
              "        const docLink = document.createElement('div');\n",
              "        docLink.innerHTML = docLinkHtml;\n",
              "        element.appendChild(docLink);\n",
              "      }\n",
              "    </script>\n",
              "  </div>\n",
              "\n",
              "\n",
              "<div id=\"df-90e4d316-70a9-47c7-8ab1-1164544e4560\">\n",
              "  <button class=\"colab-df-quickchart\" onclick=\"quickchart('df-90e4d316-70a9-47c7-8ab1-1164544e4560')\"\n",
              "            title=\"Suggest charts.\"\n",
              "            style=\"display:none;\">\n",
              "\n",
              "<svg xmlns=\"http://www.w3.org/2000/svg\" height=\"24px\"viewBox=\"0 0 24 24\"\n",
              "     width=\"24px\">\n",
              "    <g>\n",
              "        <path d=\"M19 3H5c-1.1 0-2 .9-2 2v14c0 1.1.9 2 2 2h14c1.1 0 2-.9 2-2V5c0-1.1-.9-2-2-2zM9 17H7v-7h2v7zm4 0h-2V7h2v10zm4 0h-2v-4h2v4z\"/>\n",
              "    </g>\n",
              "</svg>\n",
              "  </button>\n",
              "\n",
              "<style>\n",
              "  .colab-df-quickchart {\n",
              "      --bg-color: #E8F0FE;\n",
              "      --fill-color: #1967D2;\n",
              "      --hover-bg-color: #E2EBFA;\n",
              "      --hover-fill-color: #174EA6;\n",
              "      --disabled-fill-color: #AAA;\n",
              "      --disabled-bg-color: #DDD;\n",
              "  }\n",
              "\n",
              "  [theme=dark] .colab-df-quickchart {\n",
              "      --bg-color: #3B4455;\n",
              "      --fill-color: #D2E3FC;\n",
              "      --hover-bg-color: #434B5C;\n",
              "      --hover-fill-color: #FFFFFF;\n",
              "      --disabled-bg-color: #3B4455;\n",
              "      --disabled-fill-color: #666;\n",
              "  }\n",
              "\n",
              "  .colab-df-quickchart {\n",
              "    background-color: var(--bg-color);\n",
              "    border: none;\n",
              "    border-radius: 50%;\n",
              "    cursor: pointer;\n",
              "    display: none;\n",
              "    fill: var(--fill-color);\n",
              "    height: 32px;\n",
              "    padding: 0;\n",
              "    width: 32px;\n",
              "  }\n",
              "\n",
              "  .colab-df-quickchart:hover {\n",
              "    background-color: var(--hover-bg-color);\n",
              "    box-shadow: 0 1px 2px rgba(60, 64, 67, 0.3), 0 1px 3px 1px rgba(60, 64, 67, 0.15);\n",
              "    fill: var(--button-hover-fill-color);\n",
              "  }\n",
              "\n",
              "  .colab-df-quickchart-complete:disabled,\n",
              "  .colab-df-quickchart-complete:disabled:hover {\n",
              "    background-color: var(--disabled-bg-color);\n",
              "    fill: var(--disabled-fill-color);\n",
              "    box-shadow: none;\n",
              "  }\n",
              "\n",
              "  .colab-df-spinner {\n",
              "    border: 2px solid var(--fill-color);\n",
              "    border-color: transparent;\n",
              "    border-bottom-color: var(--fill-color);\n",
              "    animation:\n",
              "      spin 1s steps(1) infinite;\n",
              "  }\n",
              "\n",
              "  @keyframes spin {\n",
              "    0% {\n",
              "      border-color: transparent;\n",
              "      border-bottom-color: var(--fill-color);\n",
              "      border-left-color: var(--fill-color);\n",
              "    }\n",
              "    20% {\n",
              "      border-color: transparent;\n",
              "      border-left-color: var(--fill-color);\n",
              "      border-top-color: var(--fill-color);\n",
              "    }\n",
              "    30% {\n",
              "      border-color: transparent;\n",
              "      border-left-color: var(--fill-color);\n",
              "      border-top-color: var(--fill-color);\n",
              "      border-right-color: var(--fill-color);\n",
              "    }\n",
              "    40% {\n",
              "      border-color: transparent;\n",
              "      border-right-color: var(--fill-color);\n",
              "      border-top-color: var(--fill-color);\n",
              "    }\n",
              "    60% {\n",
              "      border-color: transparent;\n",
              "      border-right-color: var(--fill-color);\n",
              "    }\n",
              "    80% {\n",
              "      border-color: transparent;\n",
              "      border-right-color: var(--fill-color);\n",
              "      border-bottom-color: var(--fill-color);\n",
              "    }\n",
              "    90% {\n",
              "      border-color: transparent;\n",
              "      border-bottom-color: var(--fill-color);\n",
              "    }\n",
              "  }\n",
              "</style>\n",
              "\n",
              "  <script>\n",
              "    async function quickchart(key) {\n",
              "      const quickchartButtonEl =\n",
              "        document.querySelector('#' + key + ' button');\n",
              "      quickchartButtonEl.disabled = true;  // To prevent multiple clicks.\n",
              "      quickchartButtonEl.classList.add('colab-df-spinner');\n",
              "      try {\n",
              "        const charts = await google.colab.kernel.invokeFunction(\n",
              "            'suggestCharts', [key], {});\n",
              "      } catch (error) {\n",
              "        console.error('Error during call to suggestCharts:', error);\n",
              "      }\n",
              "      quickchartButtonEl.classList.remove('colab-df-spinner');\n",
              "      quickchartButtonEl.classList.add('colab-df-quickchart-complete');\n",
              "    }\n",
              "    (() => {\n",
              "      let quickchartButtonEl =\n",
              "        document.querySelector('#df-90e4d316-70a9-47c7-8ab1-1164544e4560 button');\n",
              "      quickchartButtonEl.style.display =\n",
              "        google.colab.kernel.accessAllowed ? 'block' : 'none';\n",
              "    })();\n",
              "  </script>\n",
              "</div>\n",
              "    </div>\n",
              "  </div>\n"
            ]
          },
          "metadata": {},
          "execution_count": 9
        }
      ]
    },
    {
      "cell_type": "code",
      "source": [
        "# imbalanced target\n",
        "\n",
        "data.target.value_counts() / len(data)"
      ],
      "metadata": {
        "colab": {
          "base_uri": "https://localhost:8080/"
        },
        "id": "DIxxFtokDyBP",
        "outputId": "07b07096-95ab-46fe-8902-1d32e5df336f"
      },
      "execution_count": 10,
      "outputs": [
        {
          "output_type": "execute_result",
          "data": {
            "text/plain": [
              "0    0.991108\n",
              "1    0.008892\n",
              "Name: target, dtype: float64"
            ]
          },
          "metadata": {},
          "execution_count": 10
        }
      ]
    },
    {
      "cell_type": "code",
      "source": [
        "# separate dataset into train and test\n",
        "\n",
        "X_train, X_test, y_train, y_test = train_test_split(\n",
        "    data.drop(labels=['target'], axis=1),  # drop the target\n",
        "    data['target'],  # just the target\n",
        "    test_size=0.3,\n",
        "    random_state=0)\n",
        "\n",
        "X_train.shape, X_test.shape"
      ],
      "metadata": {
        "colab": {
          "base_uri": "https://localhost:8080/"
        },
        "id": "mvoDVDogDzt9",
        "outputId": "7da69d8f-21b2-42e7-f37b-24a72f3ec422"
      },
      "execution_count": 11,
      "outputs": [
        {
          "output_type": "execute_result",
          "data": {
            "text/plain": [
              "((102025, 74), (43726, 74))"
            ]
          },
          "metadata": {},
          "execution_count": 11
        }
      ]
    },
    {
      "cell_type": "code",
      "source": [
        "# Baseline prediction: predict the majority class\n",
        "\n",
        "y_train_base = pd.Series(np.zeros(len(y_train)))\n",
        "y_test_base = pd.Series(np.zeros(len(y_test)))"
      ],
      "metadata": {
        "id": "lIpmVVzdD1RF"
      },
      "execution_count": 12,
      "outputs": []
    },
    {
      "cell_type": "code",
      "source": [
        "rf = RandomForestClassifier(n_estimators=100, random_state=39, max_depth=2, n_jobs=4)\n",
        "\n",
        "rf.fit(X_train, y_train)\n",
        "\n",
        "y_train_rf = rf.predict_proba(X_train)[:,1]\n",
        "y_test_rf = rf.predict_proba(X_test)[:,1]"
      ],
      "metadata": {
        "id": "3Lh5LH51D2mn"
      },
      "execution_count": null,
      "outputs": []
    },
    {
      "cell_type": "code",
      "source": [
        "logit = LogisticRegression(random_state=0,  max_iter=1000)\n",
        "\n",
        "logit.fit(X_train, y_train)\n",
        "\n",
        "y_train_logit = logit.predict_proba(X_train)[:,1]\n",
        "y_test_logit = logit.predict_proba(X_test)[:,1]"
      ],
      "metadata": {
        "id": "gTmw6yxVD4TU"
      },
      "execution_count": null,
      "outputs": []
    },
    {
      "cell_type": "markdown",
      "source": [
        "True Positive Rate\n",
        "\n",
        "$$ {TPR} = \\text{Recall} = \\frac{\\text{tp}}{\\text{tp} + \\text{fn}} $$\n",
        "\n",
        "The recall is the ratio `tp / (tp + fn)` where tp is the number of true positives and `fn` the number of false negatives. The recall is intuitively the ability of the classifier to find all the positive samples."
      ],
      "metadata": {
        "id": "LsLLYBnFHi0e"
      }
    },
    {
      "cell_type": "code",
      "source": [
        "print('Recall Baseline test: ', recall_score(y_test, y_test_base, pos_label=1))\n",
        "print('Recall Random Forest test:', recall_score(y_test, rf.predict(X_test), pos_label=1))\n",
        "print('Recall Logistic Regression test:', recall_score(y_test, logit.predict(X_test), pos_label=1))"
      ],
      "metadata": {
        "colab": {
          "base_uri": "https://localhost:8080/"
        },
        "id": "R45eDwHED6Br",
        "outputId": "a49e036c-3fb7-45be-a86f-d68b503ee54a"
      },
      "execution_count": 15,
      "outputs": [
        {
          "output_type": "stream",
          "name": "stdout",
          "text": [
            "Recall Baseline test:  0.0\n",
            "Recall Random Forest test: 0.6024691358024692\n",
            "Recall Logistic Regression test: 0.7111111111111111\n"
          ]
        }
      ]
    },
    {
      "cell_type": "markdown",
      "source": [
        "True Negative Rate\n",
        "\n",
        "TNR stands for \"True Negative Rate,\" and it is a performance metric used in binary classification problems, typically in the context of evaluating the performance of a machine learning or statistical model. TNR is also sometimes referred to as \"Specificity.\"\n",
        "\n",
        "TNR measures the proportion of actual negative instances that were correctly classified as negatives by the model out of all the actual negatives\n",
        "\n",
        "$$ {TNR} = \\frac{\\text{tn}}{\\text{tn} + \\text{fp}} $$\n"
      ],
      "metadata": {
        "id": "dTvphXvQH3de"
      }
    },
    {
      "cell_type": "code",
      "source": [
        "print('TNR Baseline test: ', recall_score(y_test, y_test_base, pos_label=0))\n",
        "print('TNR Random Forest test:', recall_score(y_test, rf.predict(X_test), pos_label=0))\n",
        "print('TNR Logistic Regression test:', recall_score(y_test, logit.predict(X_test), pos_label=0))"
      ],
      "metadata": {
        "colab": {
          "base_uri": "https://localhost:8080/"
        },
        "id": "E0m-nKyQHZ2N",
        "outputId": "701d8cad-6217-4bec-e28c-5b46c2e1dbdf"
      },
      "execution_count": 16,
      "outputs": [
        {
          "output_type": "stream",
          "name": "stdout",
          "text": [
            "TNR Baseline test:  1.0\n",
            "TNR Random Forest test: 0.9999769165070058\n",
            "TNR Logistic Regression test: 0.9996075806190993\n"
          ]
        }
      ]
    },
    {
      "cell_type": "markdown",
      "source": [
        "G-Mean\n",
        "\n",
        "The G-Mean, or Geometric Mean, is a performance metric that strikes a balance between a model's ability to correctly identify positive cases `Recall` and its ability to correctly identify negative cases `True Negative Rate`. It takes the geometric mean of these two values, offering a single score that reflects a model's overall performance. A higher G-Mean indicates a model that effectively balances the need to avoid missing positive cases while also minimizing false positive errors. It is particularly useful when you want to achieve a balanced trade-off between `sensitivity` and `specificity`, which is important in various classification tasks.\n",
        "\n",
        "$$ {G-Mean} = \\sqrt{\\frac{\\text{tp}}{\\text{tp} + \\text{fn}} \\cdot \\frac{\\text{tn}}{\\text{tn} + \\text{fp}}} $$\n",
        "\n",
        "$$ {G-Mean} = \\sqrt{\\text{Recall} \\times \\text{TNR}} $$\n",
        "\n"
      ],
      "metadata": {
        "id": "gnjqj-yTJwqk"
      }
    },
    {
      "cell_type": "code",
      "source": [
        "print('G-Mean Baseline test: ', geometric_mean_score(y_test, y_test_base))\n",
        "print('G-Mean Random Forest test:', geometric_mean_score(y_test, rf.predict(X_test)))\n",
        "print('G-Mean Logistic Regression test:', geometric_mean_score(y_test, logit.predict(X_test)))"
      ],
      "metadata": {
        "colab": {
          "base_uri": "https://localhost:8080/"
        },
        "id": "0S6l8YP3IRR_",
        "outputId": "a3c8dad0-1897-49b5-941f-2d7ca8b27c94"
      },
      "execution_count": 17,
      "outputs": [
        {
          "output_type": "stream",
          "name": "stdout",
          "text": [
            "G-Mean Baseline test:  0.0\n",
            "G-Mean Random Forest test: 0.7761798945543448\n",
            "G-Mean Logistic Regression test: 0.8431085679372124\n"
          ]
        }
      ]
    },
    {
      "cell_type": "markdown",
      "source": [
        "Dominance\n",
        "\n",
        "Represents the difference between the True Positive Rate `TPR or Recall` and the True Negative Rate `TNR`. In other words, it measures the relative dominance of one of these rates over the other.\n",
        "\n",
        "$$ {Dominance} = \\text{True Positive Rate (TPR)} - \\text{True Negative Rate (TNR)} $$\n"
      ],
      "metadata": {
        "id": "kgGFpsiFLImF"
      }
    },
    {
      "cell_type": "code",
      "source": [
        "def dominance(y_true, y_pred):\n",
        "    tpr = recall_score(y_test, y_pred, pos_label=1)\n",
        "    tnr = recall_score(y_test, y_pred, pos_label=0)\n",
        "    return tpr - tnr\n"
      ],
      "metadata": {
        "id": "cRVmhMVMKUpr"
      },
      "execution_count": 18,
      "outputs": []
    },
    {
      "cell_type": "code",
      "source": [
        "print('Dominance Baseline test: ', dominance(y_test, y_test_base))\n",
        "print('Dominance Random Forest test:', dominance(y_test, rf.predict(X_test)))\n",
        "print('Dominance Logistic Regression test:', dominance(y_test, logit.predict(X_test)))"
      ],
      "metadata": {
        "colab": {
          "base_uri": "https://localhost:8080/"
        },
        "id": "1EwNE5jWKmmA",
        "outputId": "5fe45dbf-f4f6-40b1-f323-e252d8e5f05d"
      },
      "execution_count": 19,
      "outputs": [
        {
          "output_type": "stream",
          "name": "stdout",
          "text": [
            "Dominance Baseline test:  -1.0\n",
            "Dominance Random Forest test: -0.39750778070453663\n",
            "Dominance Logistic Regression test: -0.28849646950798813\n"
          ]
        }
      ]
    },
    {
      "cell_type": "markdown",
      "source": [
        "Baseline model is more inclined toward correctly identifying negative cases and minimizing false positives rather than correctly identifying positive cases.\n",
        "\n",
        "Value indicates a slight bias towards TNR, but it's not as strong as in the Baseline model. value implies that the Logistic Regression model still emphasizes TNR but to a lesser degree.\n",
        "\n",
        "Dominance values provide insights into how these models prioritize specificity (TNR) over sensitivity (TPR) in their classification decisions. A negative Dominance value indicates a bias toward TNR, while a positive value would suggest a bias toward TPR."
      ],
      "metadata": {
        "id": "BBgYekLjK0pn"
      }
    },
    {
      "cell_type": "code",
      "source": [
        "# list of thresholds\n",
        "thresholds = np.linspace(0, 1, 100)\n",
        "\n",
        "# list co collect values\n",
        "recall_ls = []\n",
        "tnr_ls = []\n",
        "dominance_ls = []\n",
        "gmean_ls = []\n",
        "\n",
        "# obtain probabilities\n",
        "probs_logit = logit.predict_proba(X_test)[:, 1]\n",
        "\n",
        "# calculate G-Mean based on thresholds\n",
        "for threshold in thresholds:\n",
        "\n",
        "    # obtain class prediction based on threshold\n",
        "    preds_logit = np.where(probs_logit >= threshold, 1, 0)\n",
        "\n",
        "    # obtain metrics\n",
        "    recall_ls.append(recall_score(y_test, preds_logit, pos_label=1))\n",
        "    tnr_ls.append((recall_score(y_test, preds_logit, pos_label=0)))\n",
        "    dominance_ls.append(dominance(y_test, preds_logit))\n",
        "    gmean_ls.append(geometric_mean_score(y_test, preds_logit))\n",
        "\n",
        "\n",
        "# after loop concatenate metrics\n",
        "metrics = pd.concat([\n",
        "    pd.Series(recall_ls),\n",
        "    pd.Series(tnr_ls),\n",
        "    pd.Series(dominance_ls),\n",
        "    pd.Series(gmean_ls)], axis=1)\n",
        "\n",
        "# add column names and thresholds in index\n",
        "metrics.columns = ['Recall', 'TNR', 'Dominance', 'GMean']\n",
        "metrics.index = thresholds\n",
        "\n",
        "# plot\n",
        "metrics.plot()\n",
        "plt.xlabel('Probability Threshold')\n",
        "plt.ylabel('Metrics')\n",
        "plt.title('Metrics vs Discriminant Threshold')"
      ],
      "metadata": {
        "colab": {
          "base_uri": "https://localhost:8080/",
          "height": 490
        },
        "id": "gqHSyp-RKoHR",
        "outputId": "dcad0bd4-6d03-4c68-d7c8-7dc75ecd34bc"
      },
      "execution_count": 20,
      "outputs": [
        {
          "output_type": "execute_result",
          "data": {
            "text/plain": [
              "Text(0.5, 1.0, 'Metrics vs Discriminant Threshold')"
            ]
          },
          "metadata": {},
          "execution_count": 20
        },
        {
          "output_type": "display_data",
          "data": {
            "text/plain": [
              "<Figure size 640x480 with 1 Axes>"
            ],
            "image/png": "[encoded data removed]"
          },
          "metadata": {}
        }
      ]
    },
    {
      "cell_type": "markdown",
      "source": [
        "## **Index of Imbalanced Accuracy** ##"
      ],
      "metadata": {
        "id": "r2-L3qeLLeGb"
      }
    },
    {
      "cell_type": "code",
      "source": [
        "print('G-Mean Baseline test: ', geometric_mean_score(y_test, y_test_base))\n",
        "print('G-Mean Random Forest test:', geometric_mean_score(y_test, rf.predict(X_test)))\n",
        "print('G-Mean Logistic Regression test:', geometric_mean_score(y_test, logit.predict(X_test)))"
      ],
      "metadata": {
        "colab": {
          "base_uri": "https://localhost:8080/"
        },
        "id": "PWZ6GfyHLa8G",
        "outputId": "cfdef63d-7fac-43a5-af4a-54c1f6a381f4"
      },
      "execution_count": 21,
      "outputs": [
        {
          "output_type": "stream",
          "name": "stdout",
          "text": [
            "G-Mean Baseline test:  0.0\n",
            "G-Mean Random Forest test: 0.7761798945543448\n",
            "G-Mean Logistic Regression test: 0.8431085679372124\n"
          ]
        }
      ]
    },
    {
      "cell_type": "code",
      "source": [
        "gmean = make_index_balanced_accuracy(alpha=0.5, squared=True)(geometric_mean_score)\n",
        "\n",
        "print('Corrected G-Mean Baseline test: ', gmean(y_test, y_test_base))\n",
        "print('Corrected G-Mean Random Forest test:', gmean(y_test, rf.predict(X_test)))\n",
        "print('Corrected G-Mean Logistic Regression test:', gmean(y_test, logit.predict(X_test)))"
      ],
      "metadata": {
        "colab": {
          "base_uri": "https://localhost:8080/"
        },
        "id": "Eq7niDHBLsmD",
        "outputId": "acaf8842-0164-4ddb-e921-c6ec44ca9140"
      },
      "execution_count": 25,
      "outputs": [
        {
          "output_type": "stream",
          "name": "stdout",
          "text": [
            "Corrected G-Mean Baseline test:  0.0\n",
            "Corrected G-Mean Random Forest test: 0.6024552287103938\n",
            "Corrected G-Mean Logistic Regression test: 0.7108320573291372\n"
          ]
        }
      ]
    },
    {
      "cell_type": "code",
      "source": [
        "print('Accuracy Baseline test: ', accuracy_score(y_test, y_test_base))\n",
        "print('Accuracy Random Forest test:', accuracy_score(y_test, rf.predict(X_test)))\n",
        "print('Accuracy Logistic Regression test:', accuracy_score(y_test, logit.predict(X_test)))"
      ],
      "metadata": {
        "colab": {
          "base_uri": "https://localhost:8080/"
        },
        "id": "Fo11oWyeLuP5",
        "outputId": "72c9bb6d-f5b0-4843-e7e6-a2a62be3c998"
      },
      "execution_count": 26,
      "outputs": [
        {
          "output_type": "stream",
          "name": "stdout",
          "text": [
            "Accuracy Baseline test:  0.9907377761514888\n",
            "Accuracy Random Forest test: 0.9962951104605955\n",
            "Accuracy Logistic Regression test: 0.9969354617390112\n"
          ]
        }
      ]
    },
    {
      "cell_type": "code",
      "source": [
        "acc = make_index_balanced_accuracy(alpha=0.5, squared=True)(accuracy_score)\n",
        "\n",
        "print('Corrected Accuracy Baseline test: ', acc(y_test, y_test_base))\n",
        "print('Corrected Accuracy Random Forest test:', acc(y_test, rf.predict(X_test)))\n",
        "print('Corrected Accuracy Logistic Regression test:', acc(y_test, logit.predict(X_test)))"
      ],
      "metadata": {
        "colab": {
          "base_uri": "https://localhost:8080/"
        },
        "id": "R7D6WbxNL8y6",
        "outputId": "9e6b74ae-51a0-4542-eec7-45c2c7c9130b"
      },
      "execution_count": 27,
      "outputs": [
        {
          "output_type": "stream",
          "name": "stdout",
          "text": [
            "Corrected Accuracy Baseline test:  0.4907806705467988\n",
            "Corrected Accuracy Random Forest test: 0.7953200510570445\n",
            "Corrected Accuracy Logistic Regression test: 0.8505148338956338\n"
          ]
        }
      ]
    },
    {
      "cell_type": "code",
      "source": [],
      "metadata": {
        "id": "fNy1Qk8aL-tU"
      },
      "execution_count": null,
      "outputs": []
    }
  ]
}