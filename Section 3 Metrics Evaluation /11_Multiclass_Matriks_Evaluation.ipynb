{
  "nbformat": 4,
  "nbformat_minor": 0,
  "metadata": {
    "colab": {
      "provenance": [],
      "authorship_tag": "ABX9TyPew1ESrBtn7aTLQamX9nnh",
      "include_colab_link": true
    },
    "kernelspec": {
      "name": "python3",
      "display_name": "Python 3"
    },
    "language_info": {
      "name": "python"
    }
  },
  "cells": [
    {
      "cell_type": "markdown",
      "metadata": {
        "id": "view-in-github",
        "colab_type": "text"
      },
      "source": [
        "<a href=\"https://colab.research.google.com/github/farrelrassya/Machine-Learning-with-Imbalanced-Dataset-Udemy/blob/main/Section%203%20Metrics%20Evaluation%20/11_Multiclass_Matriks_Evaluation.ipynb\" target=\"_parent\"><img src=\"https://colab.research.google.com/assets/colab-badge.svg\" alt=\"Open In Colab\"/></a>"
      ]
    },
    {
      "cell_type": "markdown",
      "source": [
        "$$\n",
        "\\text{Precision} = \\frac{\\text{tp}}{\\text{tp} + \\text{fp}}\n",
        "$$\n",
        "\n",
        "$$\n",
        "\\text{Recall} = \\frac{\\text{tp}}{\\text{tp} + \\text{fn}}\n",
        "$$\n",
        "\n",
        "$$\n",
        "\\text{F1} = \\frac{2 \\times (\\text{Precision} \\times \\text{Recall})}{\\text{Precision} + \\text{Recall}}\n",
        "$$\n",
        "\n",
        "$$\n",
        "\\text{Support} = \\text{Number of cases on each class}\n",
        "$$\n"
      ],
      "metadata": {
        "id": "i8tHgguujONi"
      }
    },
    {
      "cell_type": "markdown",
      "source": [
        "By default, sklearn determines the class as the observation with the highest probability value. In this case, it does not depend on a specific threshold value.\n",
        "\n",
        "In this notebook, we will obtain the values of the metrics:\n",
        "\n",
        "1. per class\n",
        "2. macro averaged\n",
        "3. micro averaged"
      ],
      "metadata": {
        "id": "OU2YYZwXjUKx"
      }
    },
    {
      "cell_type": "code",
      "execution_count": 1,
      "metadata": {
        "id": "2U0GUCJnm7TF"
      },
      "outputs": [],
      "source": [
        "import numpy as np\n",
        "import pandas as pd\n",
        "\n",
        "from sklearn.datasets import load_wine\n",
        "from sklearn.ensemble import RandomForestClassifier\n",
        "from sklearn.linear_model import LogisticRegression\n",
        "from sklearn.model_selection import train_test_split\n",
        "\n",
        "from sklearn.metrics import (\n",
        "    precision_recall_fscore_support,\n",
        "    accuracy_score,\n",
        "    balanced_accuracy_score,\n",
        ")"
      ]
    },
    {
      "cell_type": "code",
      "source": [
        "# load data\n",
        "data = load_wine()\n",
        "\n",
        "data = pd.concat([\n",
        "    pd.DataFrame(data.data, columns=data.feature_names),\n",
        "    pd.DataFrame(data.target, columns=['target']),\n",
        "    ], axis=1)\n",
        "\n",
        "data.head()"
      ],
      "metadata": {
        "colab": {
          "base_uri": "https://localhost:8080/",
          "height": 226
        },
        "id": "Xj2kCfN5jaQr",
        "outputId": "9ed60709-573e-4329-a9df-d53fe6b26b23"
      },
      "execution_count": 2,
      "outputs": [
        {
          "output_type": "execute_result",
          "data": {
            "text/plain": [
              "   alcohol  malic_acid   ash  alcalinity_of_ash  magnesium  total_phenols  \\\n",
              "0    14.23        1.71  2.43               15.6      127.0           2.80   \n",
              "1    13.20        1.78  2.14               11.2      100.0           2.65   \n",
              "2    13.16        2.36  2.67               18.6      101.0           2.80   \n",
              "3    14.37        1.95  2.50               16.8      113.0           3.85   \n",
              "4    13.24        2.59  2.87               21.0      118.0           2.80   \n",
              "\n",
              "   flavanoids  nonflavanoid_phenols  proanthocyanins  color_intensity   hue  \\\n",
              "0        3.06                  0.28             2.29             5.64  1.04   \n",
              "1        2.76                  0.26             1.28             4.38  1.05   \n",
              "2        3.24                  0.30             2.81             5.68  1.03   \n",
              "3        3.49                  0.24             2.18             7.80  0.86   \n",
              "4        2.69                  0.39             1.82             4.32  1.04   \n",
              "\n",
              "   od280/od315_of_diluted_wines  proline  target  \n",
              "0                          3.92   1065.0       0  \n",
              "1                          3.40   1050.0       0  \n",
              "2                          3.17   1185.0       0  \n",
              "3                          3.45   1480.0       0  \n",
              "4                          2.93    735.0       0  "
            ],
            "text/html": [
              "\n",
              "  <div id=\"df-6f0bd838-37b8-409f-b2cf-8fc2cd853448\" class=\"colab-df-container\">\n",
              "    <div>\n",
              "<style scoped>\n",
              "    .dataframe tbody tr th:only-of-type {\n",
              "        vertical-align: middle;\n",
              "    }\n",
              "\n",
              "    .dataframe tbody tr th {\n",
              "        vertical-align: top;\n",
              "    }\n",
              "\n",
              "    .dataframe thead th {\n",
              "        text-align: right;\n",
              "    }\n",
              "</style>\n",
              "<table border=\"1\" class=\"dataframe\">\n",
              "  <thead>\n",
              "    <tr style=\"text-align: right;\">\n",
              "      <th></th>\n",
              "      <th>alcohol</th>\n",
              "      <th>malic_acid</th>\n",
              "      <th>ash</th>\n",
              "      <th>alcalinity_of_ash</th>\n",
              "      <th>magnesium</th>\n",
              "      <th>total_phenols</th>\n",
              "      <th>flavanoids</th>\n",
              "      <th>nonflavanoid_phenols</th>\n",
              "      <th>proanthocyanins</th>\n",
              "      <th>color_intensity</th>\n",
              "      <th>hue</th>\n",
              "      <th>od280/od315_of_diluted_wines</th>\n",
              "      <th>proline</th>\n",
              "      <th>target</th>\n",
              "    </tr>\n",
              "  </thead>\n",
              "  <tbody>\n",
              "    <tr>\n",
              "      <th>0</th>\n",
              "      <td>14.23</td>\n",
              "      <td>1.71</td>\n",
              "      <td>2.43</td>\n",
              "      <td>15.6</td>\n",
              "      <td>127.0</td>\n",
              "      <td>2.80</td>\n",
              "      <td>3.06</td>\n",
              "      <td>0.28</td>\n",
              "      <td>2.29</td>\n",
              "      <td>5.64</td>\n",
              "      <td>1.04</td>\n",
              "      <td>3.92</td>\n",
              "      <td>1065.0</td>\n",
              "      <td>0</td>\n",
              "    </tr>\n",
              "    <tr>\n",
              "      <th>1</th>\n",
              "      <td>13.20</td>\n",
              "      <td>1.78</td>\n",
              "      <td>2.14</td>\n",
              "      <td>11.2</td>\n",
              "      <td>100.0</td>\n",
              "      <td>2.65</td>\n",
              "      <td>2.76</td>\n",
              "      <td>0.26</td>\n",
              "      <td>1.28</td>\n",
              "      <td>4.38</td>\n",
              "      <td>1.05</td>\n",
              "      <td>3.40</td>\n",
              "      <td>1050.0</td>\n",
              "      <td>0</td>\n",
              "    </tr>\n",
              "    <tr>\n",
              "      <th>2</th>\n",
              "      <td>13.16</td>\n",
              "      <td>2.36</td>\n",
              "      <td>2.67</td>\n",
              "      <td>18.6</td>\n",
              "      <td>101.0</td>\n",
              "      <td>2.80</td>\n",
              "      <td>3.24</td>\n",
              "      <td>0.30</td>\n",
              "      <td>2.81</td>\n",
              "      <td>5.68</td>\n",
              "      <td>1.03</td>\n",
              "      <td>3.17</td>\n",
              "      <td>1185.0</td>\n",
              "      <td>0</td>\n",
              "    </tr>\n",
              "    <tr>\n",
              "      <th>3</th>\n",
              "      <td>14.37</td>\n",
              "      <td>1.95</td>\n",
              "      <td>2.50</td>\n",
              "      <td>16.8</td>\n",
              "      <td>113.0</td>\n",
              "      <td>3.85</td>\n",
              "      <td>3.49</td>\n",
              "      <td>0.24</td>\n",
              "      <td>2.18</td>\n",
              "      <td>7.80</td>\n",
              "      <td>0.86</td>\n",
              "      <td>3.45</td>\n",
              "      <td>1480.0</td>\n",
              "      <td>0</td>\n",
              "    </tr>\n",
              "    <tr>\n",
              "      <th>4</th>\n",
              "      <td>13.24</td>\n",
              "      <td>2.59</td>\n",
              "      <td>2.87</td>\n",
              "      <td>21.0</td>\n",
              "      <td>118.0</td>\n",
              "      <td>2.80</td>\n",
              "      <td>2.69</td>\n",
              "      <td>0.39</td>\n",
              "      <td>1.82</td>\n",
              "      <td>4.32</td>\n",
              "      <td>1.04</td>\n",
              "      <td>2.93</td>\n",
              "      <td>735.0</td>\n",
              "      <td>0</td>\n",
              "    </tr>\n",
              "  </tbody>\n",
              "</table>\n",
              "</div>\n",
              "    <div class=\"colab-df-buttons\">\n",
              "\n",
              "  <div class=\"colab-df-container\">\n",
              "    <button class=\"colab-df-convert\" onclick=\"convertToInteractive('df-6f0bd838-37b8-409f-b2cf-8fc2cd853448')\"\n",
              "            title=\"Convert this dataframe to an interactive table.\"\n",
              "            style=\"display:none;\">\n",
              "\n",
              "  <svg xmlns=\"http://www.w3.org/2000/svg\" height=\"24px\" viewBox=\"0 -960 960 960\">\n",
              "    <path d=\"M120-120v-720h720v720H120Zm60-500h600v-160H180v160Zm220 220h160v-160H400v160Zm0 220h160v-160H400v160ZM180-400h160v-160H180v160Zm440 0h160v-160H620v160ZM180-180h160v-160H180v160Zm440 0h160v-160H620v160Z\"/>\n",
              "  </svg>\n",
              "    </button>\n",
              "\n",
              "  <style>\n",
              "    .colab-df-container {\n",
              "      display:flex;\n",
              "      gap: 12px;\n",
              "    }\n",
              "\n",
              "    .colab-df-convert {\n",
              "      background-color: #E8F0FE;\n",
              "      border: none;\n",
              "      border-radius: 50%;\n",
              "      cursor: pointer;\n",
              "      display: none;\n",
              "      fill: #1967D2;\n",
              "      height: 32px;\n",
              "      padding: 0 0 0 0;\n",
              "      width: 32px;\n",
              "    }\n",
              "\n",
              "    .colab-df-convert:hover {\n",
              "      background-color: #E2EBFA;\n",
              "      box-shadow: 0px 1px 2px rgba(60, 64, 67, 0.3), 0px 1px 3px 1px rgba(60, 64, 67, 0.15);\n",
              "      fill: #174EA6;\n",
              "    }\n",
              "\n",
              "    .colab-df-buttons div {\n",
              "      margin-bottom: 4px;\n",
              "    }\n",
              "\n",
              "    [theme=dark] .colab-df-convert {\n",
              "      background-color: #3B4455;\n",
              "      fill: #D2E3FC;\n",
              "    }\n",
              "\n",
              "    [theme=dark] .colab-df-convert:hover {\n",
              "      background-color: #434B5C;\n",
              "      box-shadow: 0px 1px 3px 1px rgba(0, 0, 0, 0.15);\n",
              "      filter: drop-shadow(0px 1px 2px rgba(0, 0, 0, 0.3));\n",
              "      fill: #FFFFFF;\n",
              "    }\n",
              "  </style>\n",
              "\n",
              "    <script>\n",
              "      const buttonEl =\n",
              "        document.querySelector('#df-6f0bd838-37b8-409f-b2cf-8fc2cd853448 button.colab-df-convert');\n",
              "      buttonEl.style.display =\n",
              "        google.colab.kernel.accessAllowed ? 'block' : 'none';\n",
              "\n",
              "      async function convertToInteractive(key) {\n",
              "        const element = document.querySelector('#df-6f0bd838-37b8-409f-b2cf-8fc2cd853448');\n",
              "        const dataTable =\n",
              "          await google.colab.kernel.invokeFunction('convertToInteractive',\n",
              "                                                    [key], {});\n",
              "        if (!dataTable) return;\n",
              "\n",
              "        const docLinkHtml = 'Like what you see? Visit the ' +\n",
              "          '<a target=\"_blank\" href=https://colab.research.google.com/notebooks/data_table.ipynb>data table notebook</a>'\n",
              "          + ' to learn more about interactive tables.';\n",
              "        element.innerHTML = '';\n",
              "        dataTable['output_type'] = 'display_data';\n",
              "        await google.colab.output.renderOutput(dataTable, element);\n",
              "        const docLink = document.createElement('div');\n",
              "        docLink.innerHTML = docLinkHtml;\n",
              "        element.appendChild(docLink);\n",
              "      }\n",
              "    </script>\n",
              "  </div>\n",
              "\n",
              "\n",
              "<div id=\"df-21613352-7577-4067-a235-236d273ac062\">\n",
              "  <button class=\"colab-df-quickchart\" onclick=\"quickchart('df-21613352-7577-4067-a235-236d273ac062')\"\n",
              "            title=\"Suggest charts\"\n",
              "            style=\"display:none;\">\n",
              "\n",
              "<svg xmlns=\"http://www.w3.org/2000/svg\" height=\"24px\"viewBox=\"0 0 24 24\"\n",
              "     width=\"24px\">\n",
              "    <g>\n",
              "        <path d=\"M19 3H5c-1.1 0-2 .9-2 2v14c0 1.1.9 2 2 2h14c1.1 0 2-.9 2-2V5c0-1.1-.9-2-2-2zM9 17H7v-7h2v7zm4 0h-2V7h2v10zm4 0h-2v-4h2v4z\"/>\n",
              "    </g>\n",
              "</svg>\n",
              "  </button>\n",
              "\n",
              "<style>\n",
              "  .colab-df-quickchart {\n",
              "      --bg-color: #E8F0FE;\n",
              "      --fill-color: #1967D2;\n",
              "      --hover-bg-color: #E2EBFA;\n",
              "      --hover-fill-color: #174EA6;\n",
              "      --disabled-fill-color: #AAA;\n",
              "      --disabled-bg-color: #DDD;\n",
              "  }\n",
              "\n",
              "  [theme=dark] .colab-df-quickchart {\n",
              "      --bg-color: #3B4455;\n",
              "      --fill-color: #D2E3FC;\n",
              "      --hover-bg-color: #434B5C;\n",
              "      --hover-fill-color: #FFFFFF;\n",
              "      --disabled-bg-color: #3B4455;\n",
              "      --disabled-fill-color: #666;\n",
              "  }\n",
              "\n",
              "  .colab-df-quickchart {\n",
              "    background-color: var(--bg-color);\n",
              "    border: none;\n",
              "    border-radius: 50%;\n",
              "    cursor: pointer;\n",
              "    display: none;\n",
              "    fill: var(--fill-color);\n",
              "    height: 32px;\n",
              "    padding: 0;\n",
              "    width: 32px;\n",
              "  }\n",
              "\n",
              "  .colab-df-quickchart:hover {\n",
              "    background-color: var(--hover-bg-color);\n",
              "    box-shadow: 0 1px 2px rgba(60, 64, 67, 0.3), 0 1px 3px 1px rgba(60, 64, 67, 0.15);\n",
              "    fill: var(--button-hover-fill-color);\n",
              "  }\n",
              "\n",
              "  .colab-df-quickchart-complete:disabled,\n",
              "  .colab-df-quickchart-complete:disabled:hover {\n",
              "    background-color: var(--disabled-bg-color);\n",
              "    fill: var(--disabled-fill-color);\n",
              "    box-shadow: none;\n",
              "  }\n",
              "\n",
              "  .colab-df-spinner {\n",
              "    border: 2px solid var(--fill-color);\n",
              "    border-color: transparent;\n",
              "    border-bottom-color: var(--fill-color);\n",
              "    animation:\n",
              "      spin 1s steps(1) infinite;\n",
              "  }\n",
              "\n",
              "  @keyframes spin {\n",
              "    0% {\n",
              "      border-color: transparent;\n",
              "      border-bottom-color: var(--fill-color);\n",
              "      border-left-color: var(--fill-color);\n",
              "    }\n",
              "    20% {\n",
              "      border-color: transparent;\n",
              "      border-left-color: var(--fill-color);\n",
              "      border-top-color: var(--fill-color);\n",
              "    }\n",
              "    30% {\n",
              "      border-color: transparent;\n",
              "      border-left-color: var(--fill-color);\n",
              "      border-top-color: var(--fill-color);\n",
              "      border-right-color: var(--fill-color);\n",
              "    }\n",
              "    40% {\n",
              "      border-color: transparent;\n",
              "      border-right-color: var(--fill-color);\n",
              "      border-top-color: var(--fill-color);\n",
              "    }\n",
              "    60% {\n",
              "      border-color: transparent;\n",
              "      border-right-color: var(--fill-color);\n",
              "    }\n",
              "    80% {\n",
              "      border-color: transparent;\n",
              "      border-right-color: var(--fill-color);\n",
              "      border-bottom-color: var(--fill-color);\n",
              "    }\n",
              "    90% {\n",
              "      border-color: transparent;\n",
              "      border-bottom-color: var(--fill-color);\n",
              "    }\n",
              "  }\n",
              "</style>\n",
              "\n",
              "  <script>\n",
              "    async function quickchart(key) {\n",
              "      const quickchartButtonEl =\n",
              "        document.querySelector('#' + key + ' button');\n",
              "      quickchartButtonEl.disabled = true;  // To prevent multiple clicks.\n",
              "      quickchartButtonEl.classList.add('colab-df-spinner');\n",
              "      try {\n",
              "        const charts = await google.colab.kernel.invokeFunction(\n",
              "            'suggestCharts', [key], {});\n",
              "      } catch (error) {\n",
              "        console.error('Error during call to suggestCharts:', error);\n",
              "      }\n",
              "      quickchartButtonEl.classList.remove('colab-df-spinner');\n",
              "      quickchartButtonEl.classList.add('colab-df-quickchart-complete');\n",
              "    }\n",
              "    (() => {\n",
              "      let quickchartButtonEl =\n",
              "        document.querySelector('#df-21613352-7577-4067-a235-236d273ac062 button');\n",
              "      quickchartButtonEl.style.display =\n",
              "        google.colab.kernel.accessAllowed ? 'block' : 'none';\n",
              "    })();\n",
              "  </script>\n",
              "</div>\n",
              "    </div>\n",
              "  </div>\n"
            ]
          },
          "metadata": {},
          "execution_count": 2
        }
      ]
    },
    {
      "cell_type": "code",
      "source": [
        "# target distribution:\n",
        "# multiclass and (fairly) balanced\n",
        "\n",
        "data.target.value_counts(normalize=True)"
      ],
      "metadata": {
        "colab": {
          "base_uri": "https://localhost:8080/"
        },
        "id": "MUxRdioKjdcm",
        "outputId": "06da31a9-b9e9-473a-9d58-9bc2032e22b0"
      },
      "execution_count": 3,
      "outputs": [
        {
          "output_type": "execute_result",
          "data": {
            "text/plain": [
              "1    0.398876\n",
              "0    0.331461\n",
              "2    0.269663\n",
              "Name: target, dtype: float64"
            ]
          },
          "metadata": {},
          "execution_count": 3
        }
      ]
    },
    {
      "cell_type": "code",
      "source": [
        "# separate dataset into train and test\n",
        "\n",
        "X_train, X_test, y_train, y_test = train_test_split(\n",
        "    data.drop(labels=['target'], axis=1),  # drop the target\n",
        "    data['target'],  # just the target\n",
        "    test_size=0.3,\n",
        "    random_state=0)\n",
        "\n",
        "X_train.shape, X_test.shape"
      ],
      "metadata": {
        "colab": {
          "base_uri": "https://localhost:8080/"
        },
        "id": "DuRFoiryjfNS",
        "outputId": "fbb5cf80-87d6-4907-9861-454095371660"
      },
      "execution_count": 4,
      "outputs": [
        {
          "output_type": "execute_result",
          "data": {
            "text/plain": [
              "((124, 13), (54, 13))"
            ]
          },
          "metadata": {},
          "execution_count": 4
        }
      ]
    },
    {
      "cell_type": "markdown",
      "source": [
        "Train ML models\n",
        "Random Forests\n",
        "Produce probability vectors for each class."
      ],
      "metadata": {
        "id": "sJvuTPUSjjXP"
      }
    },
    {
      "cell_type": "code",
      "source": [
        "# set up the model\n",
        "rf = RandomForestClassifier(n_estimators=10, random_state=39, max_depth=1, n_jobs=4)\n",
        "\n",
        "# train the model\n",
        "rf.fit(X_train, y_train)\n",
        "\n",
        "# produce the predictions (as probabilities)\n",
        "y_train_rf = rf.predict_proba(X_train)\n",
        "y_test_rf = rf.predict_proba(X_test)\n",
        "\n",
        "# note that the predictions are an array of 3 columns\n",
        "\n",
        "# first column: the probability of an observation of being of class 0\n",
        "# second column: the probability of an observation of being of class 1\n",
        "# third column: the probability of an observation of being of class 2\n",
        "\n",
        "y_test_rf[0:10, :]"
      ],
      "metadata": {
        "colab": {
          "base_uri": "https://localhost:8080/"
        },
        "id": "-cmgTmxCjg3H",
        "outputId": "57f3ee9f-2ce7-4ddf-d014-22c18aa470cf"
      },
      "execution_count": 5,
      "outputs": [
        {
          "output_type": "execute_result",
          "data": {
            "text/plain": [
              "array([[0.59291486, 0.35444264, 0.0526425 ],\n",
              "       [0.12139867, 0.33577091, 0.54283043],\n",
              "       [0.30482504, 0.55905479, 0.13612017],\n",
              "       [0.52711941, 0.38876082, 0.08411977],\n",
              "       [0.27876443, 0.50875176, 0.21248381],\n",
              "       [0.34573413, 0.49743863, 0.15682724],\n",
              "       [0.51144556, 0.3911751 , 0.09737934],\n",
              "       [0.034061  , 0.34869659, 0.6172424 ],\n",
              "       [0.22335574, 0.59578725, 0.18085702],\n",
              "       [0.22335574, 0.59578725, 0.18085702]])"
            ]
          },
          "metadata": {},
          "execution_count": 5
        }
      ]
    },
    {
      "cell_type": "code",
      "source": [
        "# The final prediction is that of the biggest probabiity\n",
        "\n",
        "rf.predict(X_test)[0:10]\n"
      ],
      "metadata": {
        "colab": {
          "base_uri": "https://localhost:8080/"
        },
        "id": "ts26EIaWjmPZ",
        "outputId": "cf0feaf0-d48a-45b0-d18e-b08072510acd"
      },
      "execution_count": 6,
      "outputs": [
        {
          "output_type": "execute_result",
          "data": {
            "text/plain": [
              "array([0, 2, 1, 0, 1, 1, 0, 2, 1, 1])"
            ]
          },
          "metadata": {},
          "execution_count": 6
        }
      ]
    },
    {
      "cell_type": "markdown",
      "source": [
        "Logistic Regression\n",
        "The Logistic regression also support multiclass targets."
      ],
      "metadata": {
        "id": "lNtBwEaJjsJm"
      }
    },
    {
      "cell_type": "code",
      "source": [
        "# set up the model\n",
        "logit = LogisticRegression(\n",
        "    random_state=0, multi_class='multinomial', max_iter=100,\n",
        ")\n",
        "\n",
        "# train\n",
        "logit.fit(X_train, y_train)\n",
        "\n",
        "# obtain the probabilities\n",
        "y_train_logit = logit.predict_proba(X_train)\n",
        "y_test_logit = logit.predict_proba(X_test)\n",
        "\n",
        "# note that the predictions are an array of 3 columns\n",
        "\n",
        "# first column: the probability of an observation of being of class 0\n",
        "# second column: the probability of an observation of being of class 1\n",
        "# third column: the probability of an observation of being of class 2\n",
        "\n",
        "y_test_logit[0:10, :]"
      ],
      "metadata": {
        "colab": {
          "base_uri": "https://localhost:8080/"
        },
        "id": "3FghMP9zjn5Y",
        "outputId": "247a111d-04bb-400d-c532-790b585c0356"
      },
      "execution_count": 7,
      "outputs": [
        {
          "output_type": "stream",
          "name": "stderr",
          "text": [
            "/usr/local/lib/python3.10/dist-packages/sklearn/linear_model/_logistic.py:458: ConvergenceWarning: lbfgs failed to converge (status=1):\n",
            "STOP: TOTAL NO. of ITERATIONS REACHED LIMIT.\n",
            "\n",
            "Increase the number of iterations (max_iter) or scale the data as shown in:\n",
            "    https://scikit-learn.org/stable/modules/preprocessing.html\n",
            "Please also refer to the documentation for alternative solver options:\n",
            "    https://scikit-learn.org/stable/modules/linear_model.html#logistic-regression\n",
            "  n_iter_i = _check_optimize_result(\n"
          ]
        },
        {
          "output_type": "execute_result",
          "data": {
            "text/plain": [
              "array([[9.91174785e-01, 1.25204578e-03, 7.57316964e-03],\n",
              "       [2.39961135e-06, 9.26931569e-08, 9.99997508e-01],\n",
              "       [6.72160405e-03, 9.91784001e-01, 1.49439529e-03],\n",
              "       [9.85727996e-01, 2.01748856e-03, 1.22545157e-02],\n",
              "       [4.70970476e-03, 9.93599098e-01, 1.69119773e-03],\n",
              "       [7.82238109e-04, 9.92151343e-01, 7.06641861e-03],\n",
              "       [9.99368867e-01, 1.30515090e-04, 5.00618297e-04],\n",
              "       [7.52856238e-04, 5.64774337e-05, 9.99190666e-01],\n",
              "       [1.56450691e-02, 9.81843076e-01, 2.51185498e-03],\n",
              "       [4.08699212e-03, 9.94374282e-01, 1.53872540e-03]])"
            ]
          },
          "metadata": {},
          "execution_count": 7
        }
      ]
    },
    {
      "cell_type": "code",
      "source": [
        "# The final prediction is that of the biggest probabiity\n",
        "\n",
        "logit.predict(X_test)[0:10]"
      ],
      "metadata": {
        "colab": {
          "base_uri": "https://localhost:8080/"
        },
        "id": "sSOQrYTWjvZ4",
        "outputId": "58aa532d-6e0c-47d5-9509-a43b3ef43bef"
      },
      "execution_count": 8,
      "outputs": [
        {
          "output_type": "execute_result",
          "data": {
            "text/plain": [
              "array([0, 2, 1, 0, 1, 1, 0, 2, 1, 1])"
            ]
          },
          "metadata": {},
          "execution_count": 8
        }
      ]
    },
    {
      "cell_type": "code",
      "source": [
        "# For the rest of the notebook, we work with the class predictions\n",
        "\n",
        "y_rf_pred = rf.predict(X_test)\n",
        "\n",
        "y_logit_pred = logit.predict(X_test)"
      ],
      "metadata": {
        "id": "jFOSHHAkjxVB"
      },
      "execution_count": 9,
      "outputs": []
    },
    {
      "cell_type": "markdown",
      "source": [
        "Metrics For each class"
      ],
      "metadata": {
        "id": "brA1x_p1j0BE"
      }
    },
    {
      "cell_type": "code",
      "source": [
        "p, r, f, s = precision_recall_fscore_support(\n",
        "    y_test,\n",
        "    y_rf_pred,\n",
        "    labels=[0,1,2], # the labels for which we want the metrics determined\n",
        "    average=None, # when None, returns a metric per label\n",
        ")\n",
        "\n",
        "print('Precision: ', p)\n",
        "print('Recall: ', r)\n",
        "print('f score: ', f)\n",
        "print('Support: ', s)\n",
        "print()"
      ],
      "metadata": {
        "colab": {
          "base_uri": "https://localhost:8080/"
        },
        "id": "2TAXLL_NjymA",
        "outputId": "2173c3d7-24de-4a84-c694-b02a6f326427"
      },
      "execution_count": 10,
      "outputs": [
        {
          "output_type": "stream",
          "name": "stdout",
          "text": [
            "Precision:  [1.         0.86956522 0.85714286]\n",
            "Recall:  [0.89473684 0.90909091 0.92307692]\n",
            "f score:  [0.94444444 0.88888889 0.88888889]\n",
            "Support:  [19 22 13]\n",
            "\n"
          ]
        }
      ]
    },
    {
      "cell_type": "markdown",
      "source": [
        "Macro\n",
        "Take the average of the individual metrics"
      ],
      "metadata": {
        "id": "ipH2LpB-kK9Q"
      }
    },
    {
      "cell_type": "code",
      "source": [
        "p, r, f, s = precision_recall_fscore_support(\n",
        "    y_test,\n",
        "    y_rf_pred,\n",
        "    labels=[0,1,2], # the labels for which we want the metrics determined\n",
        "    average='macro', # take the average of the metrics\n",
        ")\n",
        "\n",
        "print('Precision: ', p)\n",
        "print('Recall: ', r)\n",
        "print('f score: ', f)\n",
        "print('Support: ', s)\n",
        "print()"
      ],
      "metadata": {
        "colab": {
          "base_uri": "https://localhost:8080/"
        },
        "id": "IRyRmIJvkIYW",
        "outputId": "90ed5a85-c2bf-4c76-e746-746a006b2fd6"
      },
      "execution_count": 11,
      "outputs": [
        {
          "output_type": "stream",
          "name": "stdout",
          "text": [
            "Precision:  0.9089026915113871\n",
            "Recall:  0.9089682247576985\n",
            "f score:  0.9074074074074074\n",
            "Support:  None\n",
            "\n"
          ]
        }
      ]
    },
    {
      "cell_type": "code",
      "source": [
        "# For precision this is the same as:\n",
        "\n",
        "(1. + 0.86956522 + 0.85714286) / 3"
      ],
      "metadata": {
        "colab": {
          "base_uri": "https://localhost:8080/"
        },
        "id": "U4Vyi_fCkMhV",
        "outputId": "6e22da15-d0f1-4b7f-ff08-c317a3dbf0c8"
      },
      "execution_count": 12,
      "outputs": [
        {
          "output_type": "execute_result",
          "data": {
            "text/plain": [
              "0.9089026933333333"
            ]
          },
          "metadata": {},
          "execution_count": 12
        }
      ]
    },
    {
      "cell_type": "markdown",
      "source": [
        "Weighed average\n",
        "Takes the average of each metric weighted by the support."
      ],
      "metadata": {
        "id": "iDPYhNtPkPgN"
      }
    },
    {
      "cell_type": "code",
      "source": [
        "p, r, f, s = precision_recall_fscore_support(\n",
        "    y_test,\n",
        "    y_rf_pred,\n",
        "    labels=[0,1,2], # the labels for which we want the metrics determined\n",
        "    average='weighted', # take the average of the metrics\n",
        ")\n",
        "\n",
        "print('Precision: ', p)\n",
        "print('Recall: ', r)\n",
        "print('f score: ', f)\n",
        "print('Support: ', s)\n",
        "print()"
      ],
      "metadata": {
        "colab": {
          "base_uri": "https://localhost:8080/"
        },
        "id": "Ak6M-W7WkN_Q",
        "outputId": "56ee5108-b089-4b75-9d0f-c32f9810f9ca"
      },
      "execution_count": 13,
      "outputs": [
        {
          "output_type": "stream",
          "name": "stdout",
          "text": [
            "Precision:  0.9124683689901082\n",
            "Recall:  0.9074074074074074\n",
            "f score:  0.9084362139917695\n",
            "Support:  None\n",
            "\n"
          ]
        }
      ]
    },
    {
      "cell_type": "code",
      "source": [
        "# For precision this is the same as:\n",
        "\n",
        "(19 * 1. + 22 * 0.86956522 + 13 * 0.85714286) / (19+22+13)"
      ],
      "metadata": {
        "colab": {
          "base_uri": "https://localhost:8080/"
        },
        "id": "RjKsWM1AkRMk",
        "outputId": "780392ce-acad-488e-955d-5d46104995bb"
      },
      "execution_count": 14,
      "outputs": [
        {
          "output_type": "execute_result",
          "data": {
            "text/plain": [
              "0.9124683707407407"
            ]
          },
          "metadata": {},
          "execution_count": 14
        }
      ]
    },
    {
      "cell_type": "markdown",
      "source": [
        "Micro\n",
        "Collective average of TP, FP anf FN."
      ],
      "metadata": {
        "id": "9UC2-JZ6kXCE"
      }
    },
    {
      "cell_type": "code",
      "source": [
        "# we determine the metrics for each one of the classes\n",
        "# just like we did in the intro video\n",
        "\n",
        "p, r, f, s = precision_recall_fscore_support(\n",
        "    y_test, y_rf_pred, labels=[0,1,2], average='micro',\n",
        ")\n",
        "\n",
        "print('Precision: ', p)\n",
        "print('Recall: ', r)\n",
        "print('f score: ', f)\n",
        "print('Support: ', s)\n",
        "print()"
      ],
      "metadata": {
        "colab": {
          "base_uri": "https://localhost:8080/"
        },
        "id": "F8v8WcKikVNQ",
        "outputId": "3cbda58d-2921-41ed-ff2d-1f674e9193ef"
      },
      "execution_count": 15,
      "outputs": [
        {
          "output_type": "stream",
          "name": "stdout",
          "text": [
            "Precision:  0.9074074074074074\n",
            "Recall:  0.9074074074074074\n",
            "f score:  0.9074074074074074\n",
            "Support:  None\n",
            "\n"
          ]
        }
      ]
    },
    {
      "cell_type": "markdown",
      "source": [
        "Model comparison\n",
        "Recall, Precision and f score"
      ],
      "metadata": {
        "id": "xoE9J8oCkaQV"
      }
    },
    {
      "cell_type": "code",
      "source": [
        "# random forests\n",
        "\n",
        "p, r, f, s = precision_recall_fscore_support(\n",
        "    y_test,\n",
        "    y_rf_pred,\n",
        "    labels=[0,1,2], # the labels for which we want the metrics determined\n",
        "    average='macro', # take the average of the metrics\n",
        ")\n",
        "\n",
        "print('Precision: ', p)\n",
        "print('Recall: ', r)\n",
        "print('f score: ', f)\n",
        "print('Support: ', s)\n",
        "print()"
      ],
      "metadata": {
        "colab": {
          "base_uri": "https://localhost:8080/"
        },
        "id": "9OH2bNHKkYw2",
        "outputId": "3463f34e-d00c-4417-865e-2cb14a88ecb8"
      },
      "execution_count": 16,
      "outputs": [
        {
          "output_type": "stream",
          "name": "stdout",
          "text": [
            "Precision:  0.9089026915113871\n",
            "Recall:  0.9089682247576985\n",
            "f score:  0.9074074074074074\n",
            "Support:  None\n",
            "\n"
          ]
        }
      ]
    },
    {
      "cell_type": "code",
      "source": [
        "# logistic regression\n",
        "\n",
        "p, r, f, s = precision_recall_fscore_support(\n",
        "    y_test,\n",
        "    y_logit_pred,\n",
        "    labels=[0,1,2], # the labels for which we want the metrics determined\n",
        "    average='macro', # take the average of the metrics\n",
        ")\n",
        "\n",
        "print('Precision: ', p)\n",
        "print('Recall: ', r)\n",
        "print('f score: ', f)\n",
        "print('Support: ', s)\n",
        "print()"
      ],
      "metadata": {
        "colab": {
          "base_uri": "https://localhost:8080/"
        },
        "id": "1DcjossYkcTv",
        "outputId": "29c89f3e-64bf-43cd-a30b-5bc1b98beb42"
      },
      "execution_count": 17,
      "outputs": [
        {
          "output_type": "stream",
          "name": "stdout",
          "text": [
            "Precision:  0.9472049689440993\n",
            "Recall:  0.9497607655502392\n",
            "f score:  0.9469135802469136\n",
            "Support:  None\n",
            "\n"
          ]
        }
      ]
    },
    {
      "cell_type": "markdown",
      "source": [
        "The Logistic regression seems to be working a bit better on average.\n",
        "\n"
      ],
      "metadata": {
        "id": "61L8E2Q0kfqr"
      }
    },
    {
      "cell_type": "code",
      "source": [
        "print('Accuracy Random Forest test:', accuracy_score(y_test, rf.predict(X_test)))\n",
        "print('Accuracy Logistic Regression test:', accuracy_score(y_test, logit.predict(X_test)))"
      ],
      "metadata": {
        "colab": {
          "base_uri": "https://localhost:8080/"
        },
        "id": "2Agogp9gkd4Q",
        "outputId": "4665fd1a-6e7a-4051-e051-e9ef6295b54a"
      },
      "execution_count": 18,
      "outputs": [
        {
          "output_type": "stream",
          "name": "stdout",
          "text": [
            "Accuracy Random Forest test: 0.9074074074074074\n",
            "Accuracy Logistic Regression test: 0.9444444444444444\n"
          ]
        }
      ]
    },
    {
      "cell_type": "code",
      "source": [
        "print('Balanced accuracy, Random Forest test:', balanced_accuracy_score(y_test, rf.predict(X_test)))\n",
        "print('Balanced accuracy, Regression test:',  balanced_accuracy_score(y_test, logit.predict(X_test)))"
      ],
      "metadata": {
        "colab": {
          "base_uri": "https://localhost:8080/"
        },
        "id": "6yRm5LWqkjrJ",
        "outputId": "3af7a717-020a-4f0f-99f2-070d5bd00d78"
      },
      "execution_count": 19,
      "outputs": [
        {
          "output_type": "stream",
          "name": "stdout",
          "text": [
            "Balanced accuracy, Random Forest test: 0.9089682247576985\n",
            "Balanced accuracy, Regression test: 0.9497607655502392\n"
          ]
        }
      ]
    },
    {
      "cell_type": "code",
      "source": [],
      "metadata": {
        "id": "AGY6FZEfklY1"
      },
      "execution_count": 19,
      "outputs": []
    }
  ]
}